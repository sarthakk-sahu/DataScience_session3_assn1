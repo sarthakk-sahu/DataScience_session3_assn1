{
 "cells": [
  {
   "cell_type": "code",
   "execution_count": 1,
   "metadata": {},
   "outputs": [
    {
     "data": {
      "text/plain": [
       "10"
      ]
     },
     "execution_count": 1,
     "metadata": {},
     "output_type": "execute_result"
    }
   ],
   "source": [
    "# Problem Statement 1:\n",
    "# Write a Python Program to implement your own myreduce() function which works exactly\n",
    "# like Python's built-in function reduce()\n",
    "\n",
    " \n",
    "def myreduce(lst):\n",
    "    s=0\n",
    "    for i in lst:\n",
    "        s = s + i\n",
    "    return(s)\n",
    "\n",
    "myreduce([1,2,3,4])"
   ]
  },
  {
   "cell_type": "code",
   "execution_count": 2,
   "metadata": {},
   "outputs": [
    {
     "data": {
      "text/plain": [
       "[2, 4, 6, 8, 10]"
      ]
     },
     "execution_count": 2,
     "metadata": {},
     "output_type": "execute_result"
    }
   ],
   "source": [
    "# Problem Statement 2:\n",
    "# Write a Python program to implement your own myfilter() function which works exactly\n",
    "# like Python's built-in function filter()\n",
    "\n",
    "\n",
    "def myfilter_even(lst):\n",
    "    return [x for x in lst if x % 2 == 0]    \n",
    "\n",
    "\n",
    "myfilter_even([1,2,3,4,5,6,7,8,9,10])"
   ]
  }
 ],
 "metadata": {
  "kernelspec": {
   "display_name": "Python 3",
   "language": "python",
   "name": "python3"
  },
  "language_info": {
   "codemirror_mode": {
    "name": "ipython",
    "version": 3
   },
   "file_extension": ".py",
   "mimetype": "text/x-python",
   "name": "python",
   "nbconvert_exporter": "python",
   "pygments_lexer": "ipython3",
   "version": "3.6.3"
  }
 },
 "nbformat": 4,
 "nbformat_minor": 2
}
